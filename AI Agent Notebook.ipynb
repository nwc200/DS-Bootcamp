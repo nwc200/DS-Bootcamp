{
 "cells": [
  {
   "cell_type": "code",
   "execution_count": 1,
   "metadata": {},
   "outputs": [],
   "source": [
    "#!py -m pip freeze > requirements.txt"
   ]
  },
  {
   "cell_type": "code",
   "execution_count": 1,
   "metadata": {},
   "outputs": [
    {
     "ename": "ModuleNotFoundError",
     "evalue": "No module named 'langchain_ollama'",
     "output_type": "error",
     "traceback": [
      "\u001b[1;31m---------------------------------------------------------------------------\u001b[0m",
      "\u001b[1;31mModuleNotFoundError\u001b[0m                       Traceback (most recent call last)",
      "Cell \u001b[1;32mIn[1], line 2\u001b[0m\n\u001b[0;32m      1\u001b[0m \u001b[38;5;28;01mfrom\u001b[39;00m \u001b[38;5;21;01mlangchain\u001b[39;00m \u001b[38;5;28;01mimport\u001b[39;00m hub\n\u001b[1;32m----> 2\u001b[0m \u001b[38;5;28;01mfrom\u001b[39;00m \u001b[38;5;21;01mlangchain_ollama\u001b[39;00m\u001b[38;5;21;01m.\u001b[39;00m\u001b[38;5;21;01mllms\u001b[39;00m \u001b[38;5;28;01mimport\u001b[39;00m OllamaLLM\n\u001b[0;32m      3\u001b[0m \u001b[38;5;28;01mfrom\u001b[39;00m \u001b[38;5;21;01mlangchain_community\u001b[39;00m\u001b[38;5;21;01m.\u001b[39;00m\u001b[38;5;21;01mtools\u001b[39;00m\u001b[38;5;21;01m.\u001b[39;00m\u001b[38;5;21;01mtavily_search\u001b[39;00m \u001b[38;5;28;01mimport\u001b[39;00m TavilySearchResults\n\u001b[0;32m      4\u001b[0m \u001b[38;5;28;01mfrom\u001b[39;00m \u001b[38;5;21;01mlangchain\u001b[39;00m\u001b[38;5;21;01m.\u001b[39;00m\u001b[38;5;21;01magents\u001b[39;00m \u001b[38;5;28;01mimport\u001b[39;00m AgentExecutor, create_react_agent\n",
      "\u001b[1;31mModuleNotFoundError\u001b[0m: No module named 'langchain_ollama'"
     ]
    }
   ],
   "source": [
    "from langchain import hub\n",
    "from langchain_ollama.llms import OllamaLLM\n",
    "from langchain_community.tools.tavily_search import TavilySearchResults\n",
    "from langchain.agents import AgentExecutor, create_react_agent\n",
    "from langchain.memory import ChatMessageHistory\n",
    "from langchain_core.runnables.history import RunnableWithMessageHistory\n",
    "from langchain_core.callbacks import StdOutCallbackHandler\n",
    "import requests\n",
    "\n",
    "import os"
   ]
  },
  {
   "cell_type": "code",
   "execution_count": 3,
   "metadata": {},
   "outputs": [],
   "source": [
    "# from langchain.globals import set_debug\n",
    "\n",
    "# set_debug(True)\n"
   ]
  },
  {
   "cell_type": "code",
   "execution_count": 4,
   "metadata": {},
   "outputs": [],
   "source": [
    "# TAVILY_API_KEY = os.environ[\"TAVILY_API_KEY\"]\n",
    "# os.environ[\"TAVILY_API_KEY\"]"
   ]
  },
  {
   "cell_type": "code",
   "execution_count": 5,
   "metadata": {},
   "outputs": [
    {
     "data": {
      "text/plain": [
       "'Here are 10 potential song title ideas about parrots:\\n\\n1. **\"Flock Together\"** - a catchy, upbeat title that captures the social nature of parrots.\\n2. **\"Rainbow Wings\"** - inspired by the vibrant colors and stunning plumage of many parrot species.\\n3. **\"Squawkin\\' Good Time\"** - a fun, playful title that evokes the lively sounds made by parrots.\\n4. **\"Paradise Found\"** - a title that references the tropical habitats where many parrots live.\\n5. **\"Feathered Friends\"** - a heartwarming title that highlights the special bond between humans and parrots.\\n6. **\"The Parrot\\'s Lament\"** - a more melancholic title that suggests a song with a deeper, more emotional message.\\n7. **\"Winged Wonders\"** - a title that celebrates the incredible abilities of parrots in flight.\\n8. **\"Colorful Chaos\"** - a fun, whimsical title that captures the playful energy of parrots.\\n9. **\"The Bird\\'s Eye View\"** - a clever title that references both the physical perspective of a bird and the idea of seeing things from a new angle.\\n10. **\"Polly\\'s Song\"** - a sweet, nostalgic title that suggests a song with a personal, storytelling feel.\\n\\nI hope these ideas inspire you!'"
      ]
     },
     "execution_count": 5,
     "metadata": {},
     "output_type": "execute_result"
    }
   ],
   "source": [
    "# Use llama3.1 and test if it is working\n",
    "model = OllamaLLM(model=\"llama3.1\", temperature=0)\n",
    "model.invoke(\"Come up with 10 names for a song about parrots\")"
   ]
  },
  {
   "cell_type": "code",
   "execution_count": 29,
   "metadata": {},
   "outputs": [],
   "source": [
    "from langchain.agents import tool\n",
    "\n",
    "\n",
    "@tool()\n",
    "def get_number_active_cpf_members_and_employers(input: str) -> str:\n",
    "    \"\"\"Gets the number of all, Central Provident Fund (CPF) Members & Active Employers\"\"\"\n",
    "\n",
    "    # We get the dataset ids of the following dataset: https://data.gov.sg/datasets?query=CPF&page=1&resultId=41\n",
    "    # This will be needed as we will be querying the data.gov API later.\n",
    "    dataset_dict = {\n",
    "        \"active_member\": \"d_89dd4e5486fe3bb3b0c620cc6f787cdc\",\n",
    "        \"active_employer\": \"d_bccb6829056e74f8a87b99c1bdb3e3ab\",\n",
    "        \"member\": \"d_0014a7b5fa44981567b4c99c7a126630\"\n",
    "    }\n",
    "\n",
    "    # This chain is used to find out what type of question the user is asking\n",
    "    question_classification_chain = model.invoke(f\"\"\"You are a chatbot tasked to identify if the following user query is asking for the \n",
    "                 1) Number of Central Provident Fund (CPF) active members. If user is asking for this, respond with active_member\n",
    "                 2) Number of Central Provident Fund (CPF) active employers. If user is asking for this, respond with active_employer\n",
    "                 3) Number of Central Provident Fund (CPF) members. If user is asking for this, respond with member\n",
    "\n",
    "                 If you do not have the answer respond with 'I don't know'.\n",
    "                                \n",
    "                Query: {input}\"\"\")\n",
    "    \n",
    "    # This if else statement is to check if the LLM hallucinated or if it did not give the answer in the correct format.\n",
    "    if question_classification_chain not in dataset_dict:\n",
    "        return \"I don't know\"\n",
    "    else:\n",
    "        datasetId = dataset_dict[question_classification_chain]\n",
    "\n",
    "    # This chain is used to find out the year and quarter the user is asking for. Ask LLM to default to 2024-Q1 if no year and quarter.\n",
    "    year_quarter_chain = model.invoke(f\"\"\"You are a chatbot tasked to identify the year and quarter from the user query \n",
    "                 1) If you do not know the year reply 2024\n",
    "                 2) If you do not know the quarter reply Q1\n",
    "\n",
    "                 Format your answer in the followng format YYYY-QQ. Only reply with the YYYY-QQ.\n",
    "                                \n",
    "                Query: {input}\"\"\")\n",
    "\n",
    "    year_quarter_chain = year_quarter_chain.strip()\n",
    "     \n",
    "    # Query data.gov to get number of CPF users or employers.\n",
    "    url = \"https://data.gov.sg/api/action/datastore_search\"\n",
    "    response = requests.get(url, params={\"resource_id\": datasetId})\n",
    "\n",
    "    # This is to check if LLM hallucinated the year_quarter_chain\n",
    "    result = \"I don't know\"\n",
    "    for i in response.json()['result']['records']:\n",
    "        if i['qtr'] == year_quarter_chain:\n",
    "            result = i[list(i.keys())[2]]\n",
    "    \n",
    "    if result == \"I don't know\":\n",
    "        return \"I don't know\"\n",
    "\n",
    "    return f\"\\nObservation: {result}\"\n",
    "\n",
    "\n",
    "@tool()\n",
    "def web_search(input: str) -> str:\n",
    "    \"\"\"Runs web search for generic Central Provident Fund (CPF) related questions\"\"\"\n",
    "    \n",
    "    # Tavily will search the web based on our query\n",
    "    web_search_tool = TavilySearchResults()\n",
    "\n",
    "    # Sometimes there might be errors when you use the API. Make sure to do proper exception handling!\n",
    "    try:\n",
    "        docs = web_search_tool.invoke({\"query\": input})\n",
    "    except Exception as e:\n",
    "        return f\"Something went wrong using Tavily, {e}\"\n",
    "    \n",
    "    # We summarize the results that the websearch gives us into a single output\n",
    "    output = model.invoke(f\"\"\"You are text summarization tool that will ONLY help to summarize relevant information.\n",
    "        Use following piece of context to answer the question. \n",
    "        If you don't know the answer or there is no relevant context, just say you don't know. \n",
    "        Keep the answer within 5 sentences and concise.\n",
    "\n",
    "        Context: {docs[0:5]}\n",
    "        Question: {input}\n",
    "        Answer: \n",
    "\n",
    "        \"\"\")\n",
    "\n",
    "    \n",
    "    return f\"\\nObservation: {output}\"\n",
    "\n",
    "\n",
    "@tool(return_direct=True)\n",
    "def send_email_to_CPF(input: str) -> str:\n",
    "    \"\"\"Use this tool to send an email to Central Provident Fund (CPF) if the user is reporting a scam, giving a compliment or if you are unable to answer questions after using the web_search tool\"\"\"\n",
    "    \n",
    "    # Mocked after https://www.cpf.gov.sg/service/write-to-us\n",
    "    message_type_chain = model.invoke(f\"You are a chatbot tasked with identifying the type of message that the user wrote. The type of message can be a Scam Report, Request, Appeal, Compliment, Feedback or Others. \\n===CONVERSATION=== USER: {input}. MESSAGE_TYPE:\"\n",
    "                            )\n",
    "\n",
    "    output = model.invoke(f\"You are a chatbot tasked with writing an email to Central Provident Fund (CPF). Please come up with an email message based on the user's query. Do not include information about tools. \\n MESSAGE TYPE: {message_type_chain} ===CONVERSATION=== USER: {input}. EMAIL:\"\n",
    "                            )\n",
    "    \n",
    "    # After this step we could take this output and format it into an email message before sending it to CPF. \n",
    "    # We could also extract user's NRIC, if their email address, if they are reporting for themselves or others, etc etc\n",
    "    # But that is out of the scope for this workshop\n",
    "\n",
    "    return output\n",
    "\n",
    "\n",
    "@tool(return_direct=True)\n",
    "def no_answer(input: str) -> str:\n",
    "    \"\"\"Come up with a generic fallback response when you get asked a question not related to Central Provident Fund (CPF)\"\"\"\n",
    "\n",
    "    output = model.invoke(f\"You are a chatbot that does not have sufficient information to answer the user's question. Please come up with a fallback response apologising to the user that you were not able to answer their question.\\n===CONVERSATION=== USER: {input}. CHATBOT:\"\n",
    "                            )\n",
    "    return output\n",
    "\n",
    "\n",
    "tools = [\n",
    "    get_number_active_cpf_members_and_employers,\n",
    "    web_search,\n",
    "    send_email_to_CPF,\n",
    "    no_answer,\n",
    "]\n",
    "\n",
    "#get_number_active_cpf_members_and_employers.invoke(\"how many active cpf members are there?\")\n",
    "#web_search.invoke(\"what is CPF?\")\n",
    "#send_email_to_CPF.invoke(\"What is CPF?\")"
   ]
  },
  {
   "cell_type": "code",
   "execution_count": 41,
   "metadata": {},
   "outputs": [],
   "source": [
    "prompt = hub.pull(\"hwchase17/react\")\n",
    "print(prompt.template)"
   ]
  },
  {
   "cell_type": "code",
   "execution_count": 31,
   "metadata": {},
   "outputs": [],
   "source": [
    "# We do this because the base prompt does not work at all without edits *cries*\n",
    "# So we need to do some propmpt engineering \n",
    "\n",
    "prompt.template = \"\"\"Answer the following questions as best you can. You have access to the following tools:\n",
    "\n",
    "{tools}\n",
    "\n",
    "Use the following format:\n",
    "\n",
    "Thought: you should always think about what to do. If you have enough information, give your Final Answer. If the Observation says I don't know, use the no_answer tool or send_email_to_CPF depending on the Question.\n",
    "Action: the action to take, should be one of [{tool_names}]\n",
    "Action Input: the Action Input is the EXACT verbatim of the Question asked. Do not add or change the Question.\n",
    "Observation: Additional information given by the tool that can be used in the Final Answer.\n",
    "\n",
    "This Thought/Action/Action Input/Observation can repeat if you do not have enough information.\n",
    "\n",
    "Once you have enough information to answer the user question, do the following:\n",
    "Thought: I now know the final answer\n",
    "Final Answer: ONLY give your final answer to the question that was asked.\n",
    "\n",
    "Begin!\n",
    "\n",
    "Question: {input}\n",
    "Thought:{agent_scratchpad}\"\"\""
   ]
  },
  {
   "cell_type": "code",
   "execution_count": 32,
   "metadata": {},
   "outputs": [],
   "source": [
    "memory = ChatMessageHistory(session_id=\"test-session\")"
   ]
  },
  {
   "cell_type": "code",
   "execution_count": 33,
   "metadata": {},
   "outputs": [],
   "source": [
    "# Create our agent and agent_executor\n",
    "\n",
    "agent = create_react_agent(model, tools, prompt)\n",
    "\n",
    "handler = StdOutCallbackHandler()\n",
    "agent_executor = AgentExecutor(agent=agent, tools=tools, max_iterations=3, verbose=True, return_intermediate_steps=True, callbacks=[handler], handle_parsing_errors=True)\n",
    "\n",
    "\n",
    "# This is used if we want to invoke queries while remembering previous user queries\n",
    "agent_with_chat_history = RunnableWithMessageHistory(\n",
    "    agent_executor,\n",
    "    # This is needed because in most real world scenarios, a session id is needed\n",
    "    # It isn't really used here because we are using a simple in memory ChatMessageHistory\n",
    "    lambda session_id: memory,\n",
    "    input_messages_key=\"input\",\n",
    "    history_messages_key=\"chat_history\",\n",
    ")"
   ]
  },
  {
   "cell_type": "code",
   "execution_count": 34,
   "metadata": {},
   "outputs": [
    {
     "name": "stderr",
     "output_type": "stream",
     "text": [
      "Error in StdOutCallbackHandler.on_chain_start callback: AttributeError(\"'NoneType' object has no attribute 'get'\")\n"
     ]
    },
    {
     "name": "stdout",
     "output_type": "stream",
     "text": [
      "\u001b[32;1m\u001b[1;3mThought: I'm not sure what the age requirement is for claiming CPF. Let me try to find out.\n",
      "Action: web_search\n",
      "Action Input: What is the age limit to claim Central Provident Fund (CPF\u001b[0m\u001b[33;1m\u001b[1;3m\n",
      "Observation: I don't know. The context provided does not mention an age limit to claim the Central Provident Fund (CPF). It only provides information on what CPF is and its purpose, but not on any specific age-related requirements or limitations for claiming it.\u001b[0m\u001b[32;1m\u001b[1;3mThought: I still don't have enough information to answer the question. Let me try another tool.\n",
      "\n",
      "Action: send_email_to_CPF\n",
      "Action Input: I'm trying to find out how old you need to be to claim CPF, but I couldn't find any relevant information using a web search\u001b[0m\u001b[38;5;200m\u001b[1;3mHere's the email message:\n",
      "\n",
      "Subject: Inquiry on Eligibility Age for Claiming CPF\n",
      "\n",
      "Dear Central Provident Fund (CPF) Team,\n",
      "\n",
      "I am writing to seek your assistance in understanding the eligibility age for claiming my CPF savings. I have been trying to find this information online, but unfortunately, I couldn't locate any relevant details.\n",
      "\n",
      "Could you please provide me with information on the minimum age requirement to claim my CPF? I would appreciate it if you could also let me know what documents or procedures are required to initiate the claim process.\n",
      "\n",
      "Thank you for your time and assistance. I look forward to hearing from you soon.\n",
      "\n",
      "Best regards,\n",
      "[Your Name]\u001b[0m\n",
      "\u001b[32;1m\u001b[1;3m\u001b[0m\n",
      "\n",
      "\u001b[1m> Finished chain.\u001b[0m\n"
     ]
    },
    {
     "data": {
      "text/plain": [
       "{'input': 'How old do I need to be to claim CPF?',\n",
       " 'output': \"Here's the email message:\\n\\nSubject: Inquiry on Eligibility Age for Claiming CPF\\n\\nDear Central Provident Fund (CPF) Team,\\n\\nI am writing to seek your assistance in understanding the eligibility age for claiming my CPF savings. I have been trying to find this information online, but unfortunately, I couldn't locate any relevant details.\\n\\nCould you please provide me with information on the minimum age requirement to claim my CPF? I would appreciate it if you could also let me know what documents or procedures are required to initiate the claim process.\\n\\nThank you for your time and assistance. I look forward to hearing from you soon.\\n\\nBest regards,\\n[Your Name]\",\n",
       " 'intermediate_steps': [(AgentAction(tool='web_search', tool_input='What is the age limit to claim Central Provident Fund (CPF', log=\"Thought: I'm not sure what the age requirement is for claiming CPF. Let me try to find out.\\nAction: web_search\\nAction Input: What is the age limit to claim Central Provident Fund (CPF\"),\n",
       "   \"\\nObservation: I don't know. The context provided does not mention an age limit to claim the Central Provident Fund (CPF). It only provides information on what CPF is and its purpose, but not on any specific age-related requirements or limitations for claiming it.\"),\n",
       "  (AgentAction(tool='send_email_to_CPF', tool_input=\"I'm trying to find out how old you need to be to claim CPF, but I couldn't find any relevant information using a web search\", log=\"Thought: I still don't have enough information to answer the question. Let me try another tool.\\n\\nAction: send_email_to_CPF\\nAction Input: I'm trying to find out how old you need to be to claim CPF, but I couldn't find any relevant information using a web search\"),\n",
       "   \"Here's the email message:\\n\\nSubject: Inquiry on Eligibility Age for Claiming CPF\\n\\nDear Central Provident Fund (CPF) Team,\\n\\nI am writing to seek your assistance in understanding the eligibility age for claiming my CPF savings. I have been trying to find this information online, but unfortunately, I couldn't locate any relevant details.\\n\\nCould you please provide me with information on the minimum age requirement to claim my CPF? I would appreciate it if you could also let me know what documents or procedures are required to initiate the claim process.\\n\\nThank you for your time and assistance. I look forward to hearing from you soon.\\n\\nBest regards,\\n[Your Name]\")]}"
      ]
     },
     "execution_count": 34,
     "metadata": {},
     "output_type": "execute_result"
    }
   ],
   "source": [
    "agent_executor.invoke(\n",
    "    {\"input\": \"How old do I need to be to claim CPF?\"}\n",
    ")"
   ]
  },
  {
   "cell_type": "code",
   "execution_count": 35,
   "metadata": {},
   "outputs": [
    {
     "name": "stderr",
     "output_type": "stream",
     "text": [
      "Error in StdOutCallbackHandler.on_chain_start callback: AttributeError(\"'NoneType' object has no attribute 'get'\")\n"
     ]
    },
    {
     "name": "stdout",
     "output_type": "stream",
     "text": [
      "\u001b[32;1m\u001b[1;3mThought: I'm not sure what CPF stands for or what it means. I should try to find out more information.\n",
      "Action: web_search\n",
      "Action Input: What is CPF\u001b[0m\u001b[33;1m\u001b[1;3m\n",
      "Observation: The Central Provident Fund (CPF) is a mandatory social security system in Singapore that helps citizens save for retirement, housing, healthcare, and other needs. It is funded by contributions from employers and employees. The CPF has three main accounts: Ordinary, Special, and MediSave, each with different uses and benefits. The government also supplements the savings of lower-wage workers through various schemes. Overall, CPF serves as a key pillar of Singapore's social security system.\u001b[0m\u001b[32;1m\u001b[1;3mThought: I now know that CPF stands for Central Provident Fund, which is a mandatory social security system in Singapore.\n",
      "\n",
      "Final Answer: The Central Provident Fund (CPF) is a mandatory social security system in Singapore that helps citizens save for retirement, housing, healthcare, and other needs.\u001b[0m\n",
      "\n",
      "\u001b[1m> Finished chain.\u001b[0m\n"
     ]
    },
    {
     "data": {
      "text/plain": [
       "{'input': 'What is CPF?',\n",
       " 'output': 'The Central Provident Fund (CPF) is a mandatory social security system in Singapore that helps citizens save for retirement, housing, healthcare, and other needs.',\n",
       " 'intermediate_steps': [(AgentAction(tool='web_search', tool_input='What is CPF', log=\"Thought: I'm not sure what CPF stands for or what it means. I should try to find out more information.\\nAction: web_search\\nAction Input: What is CPF\"),\n",
       "   \"\\nObservation: The Central Provident Fund (CPF) is a mandatory social security system in Singapore that helps citizens save for retirement, housing, healthcare, and other needs. It is funded by contributions from employers and employees. The CPF has three main accounts: Ordinary, Special, and MediSave, each with different uses and benefits. The government also supplements the savings of lower-wage workers through various schemes. Overall, CPF serves as a key pillar of Singapore's social security system.\")]}"
      ]
     },
     "execution_count": 35,
     "metadata": {},
     "output_type": "execute_result"
    }
   ],
   "source": [
    "agent_executor.invoke(\n",
    "    {\"input\": \"What is CPF?\"}\n",
    ")"
   ]
  },
  {
   "cell_type": "code",
   "execution_count": 36,
   "metadata": {},
   "outputs": [
    {
     "name": "stderr",
     "output_type": "stream",
     "text": [
      "Error in StdOutCallbackHandler.on_chain_start callback: AttributeError(\"'NoneType' object has no attribute 'get'\")\n"
     ]
    },
    {
     "name": "stdout",
     "output_type": "stream",
     "text": [
      "\u001b[32;1m\u001b[1;3mThought: I should try to find out how much CPF employers need to contribute. If I have enough information, I can give a Final Answer. \n",
      "\n",
      "Action: web_search\n",
      "Action Input: How much CPF do employers need to contribute\u001b[0m\u001b[33;1m\u001b[1;3m\n",
      "Observation: Employers in Singapore are required to contribute up to 17% of their employees' salary, capped at $6,800 per month (previously $6,000). This contribution rate applies to employees earning more than $50 a month. The monthly salary ceiling is set to rise to $8,000 in 2026. There is no change to the Annual CPF Limit, which remains at $37,740.\u001b[0m\u001b[32;1m\u001b[1;3mThought: I now know that employers in Singapore are required to contribute up to 17% of their employees' salary, capped at $6,800 per month.\n",
      "\n",
      "Final Answer: Employers in Singapore need to contribute up to 17% of their employees' salary, capped at $6,800 per month.\u001b[0m\n",
      "\n",
      "\u001b[1m> Finished chain.\u001b[0m\n"
     ]
    },
    {
     "data": {
      "text/plain": [
       "{'input': 'How much CPF do employers need to contribute?',\n",
       " 'output': \"Employers in Singapore need to contribute up to 17% of their employees' salary, capped at $6,800 per month.\",\n",
       " 'intermediate_steps': [(AgentAction(tool='web_search', tool_input='How much CPF do employers need to contribute', log='Thought: I should try to find out how much CPF employers need to contribute. If I have enough information, I can give a Final Answer. \\n\\nAction: web_search\\nAction Input: How much CPF do employers need to contribute'),\n",
       "   \"\\nObservation: Employers in Singapore are required to contribute up to 17% of their employees' salary, capped at $6,800 per month (previously $6,000). This contribution rate applies to employees earning more than $50 a month. The monthly salary ceiling is set to rise to $8,000 in 2026. There is no change to the Annual CPF Limit, which remains at $37,740.\")]}"
      ]
     },
     "execution_count": 36,
     "metadata": {},
     "output_type": "execute_result"
    }
   ],
   "source": [
    "agent_executor.invoke(\n",
    "    {\"input\": \"How much CPF do employers need to contribute?\"}\n",
    ")"
   ]
  },
  {
   "cell_type": "code",
   "execution_count": 37,
   "metadata": {},
   "outputs": [
    {
     "name": "stderr",
     "output_type": "stream",
     "text": [
      "Error in StdOutCallbackHandler.on_chain_start callback: AttributeError(\"'NoneType' object has no attribute 'get'\")\n"
     ]
    },
    {
     "name": "stdout",
     "output_type": "stream",
     "text": [
      "\u001b[32;1m\u001b[1;3mThought: I don't have any information about the weather in Singapore. This question doesn't seem related to Central Provident Fund (CPF).\n",
      "\n",
      "Action: no_answer\n",
      "Action Input: What is the weather in Singapore tommorrow\u001b[0m\u001b[36;1m\u001b[1;3mI'm so sorry, but I don't have access to real-time or future weather information for specific locations like Singapore. My training data only allows me to provide general information and answers based on my knowledge cutoff. Unfortunately, I won't be able to give you an accurate forecast for tomorrow in Singapore. If you're looking for up-to-date weather information, I recommend checking a reliable weather website or app, such as AccuWeather or the National Weather Service, for the most current forecasts. Sorry again for not being able to help!\u001b[0m\n",
      "\u001b[32;1m\u001b[1;3m\u001b[0m\n",
      "\n",
      "\u001b[1m> Finished chain.\u001b[0m\n"
     ]
    },
    {
     "data": {
      "text/plain": [
       "{'input': 'What is the weather in Singapore tommorow?',\n",
       " 'output': \"I'm so sorry, but I don't have access to real-time or future weather information for specific locations like Singapore. My training data only allows me to provide general information and answers based on my knowledge cutoff. Unfortunately, I won't be able to give you an accurate forecast for tomorrow in Singapore. If you're looking for up-to-date weather information, I recommend checking a reliable weather website or app, such as AccuWeather or the National Weather Service, for the most current forecasts. Sorry again for not being able to help!\",\n",
       " 'intermediate_steps': [(AgentAction(tool='no_answer', tool_input='What is the weather in Singapore tommorrow', log=\"Thought: I don't have any information about the weather in Singapore. This question doesn't seem related to Central Provident Fund (CPF).\\n\\nAction: no_answer\\nAction Input: What is the weather in Singapore tommorrow\"),\n",
       "   \"I'm so sorry, but I don't have access to real-time or future weather information for specific locations like Singapore. My training data only allows me to provide general information and answers based on my knowledge cutoff. Unfortunately, I won't be able to give you an accurate forecast for tomorrow in Singapore. If you're looking for up-to-date weather information, I recommend checking a reliable weather website or app, such as AccuWeather or the National Weather Service, for the most current forecasts. Sorry again for not being able to help!\")]}"
      ]
     },
     "execution_count": 37,
     "metadata": {},
     "output_type": "execute_result"
    }
   ],
   "source": [
    "agent_executor.invoke(\n",
    "    {\"input\": \"What is the weather in Singapore tommorow?\"}\n",
    ")"
   ]
  },
  {
   "cell_type": "code",
   "execution_count": 38,
   "metadata": {},
   "outputs": [
    {
     "name": "stderr",
     "output_type": "stream",
     "text": [
      "Error in StdOutCallbackHandler.on_chain_start callback: AttributeError(\"'NoneType' object has no attribute 'get'\")\n"
     ]
    },
    {
     "name": "stdout",
     "output_type": "stream",
     "text": [
      "\u001b[32;1m\u001b[1;3mThought: You're welcome! It's my pleasure to assist with Central Provident Fund (CPF) related queries. I'm ready to help!\n",
      "\n",
      "Action: send_email_to_CPF\n",
      "Action Input: Thank you so much for helping me answer CPF related questions\u001b[0m\u001b[38;5;200m\u001b[1;3mHere's the email message based on the user's query:\n",
      "\n",
      "Subject: Appreciation for Assistance with CPF Queries\n",
      "\n",
      "Dear Central Provident Fund (CPF) Team,\n",
      "\n",
      "I am writing to express my sincere gratitude and appreciation for your assistance in answering my CPF-related questions. Your prompt and helpful responses have been invaluable, and I am grateful for the time you took to address my queries.\n",
      "\n",
      "Your team's dedication to providing accurate and timely information has made a significant difference in helping me understand my CPF contributions and benefits. Please pass on my thanks to the entire team for their hard work and commitment to serving the public.\n",
      "\n",
      "Thank you again for your assistance, and I wish the CPF team continued success in serving the community.\n",
      "\n",
      "Best regards,\n",
      "[Your Name]\u001b[0m\n",
      "\u001b[32;1m\u001b[1;3m\u001b[0m\n",
      "\n",
      "\u001b[1m> Finished chain.\u001b[0m\n"
     ]
    },
    {
     "data": {
      "text/plain": [
       "{'input': 'Thank you so much for helping me answer CPF related questions!',\n",
       " 'output': \"Here's the email message based on the user's query:\\n\\nSubject: Appreciation for Assistance with CPF Queries\\n\\nDear Central Provident Fund (CPF) Team,\\n\\nI am writing to express my sincere gratitude and appreciation for your assistance in answering my CPF-related questions. Your prompt and helpful responses have been invaluable, and I am grateful for the time you took to address my queries.\\n\\nYour team's dedication to providing accurate and timely information has made a significant difference in helping me understand my CPF contributions and benefits. Please pass on my thanks to the entire team for their hard work and commitment to serving the public.\\n\\nThank you again for your assistance, and I wish the CPF team continued success in serving the community.\\n\\nBest regards,\\n[Your Name]\",\n",
       " 'intermediate_steps': [(AgentAction(tool='send_email_to_CPF', tool_input='Thank you so much for helping me answer CPF related questions', log=\"Thought: You're welcome! It's my pleasure to assist with Central Provident Fund (CPF) related queries. I'm ready to help!\\n\\nAction: send_email_to_CPF\\nAction Input: Thank you so much for helping me answer CPF related questions\"),\n",
       "   \"Here's the email message based on the user's query:\\n\\nSubject: Appreciation for Assistance with CPF Queries\\n\\nDear Central Provident Fund (CPF) Team,\\n\\nI am writing to express my sincere gratitude and appreciation for your assistance in answering my CPF-related questions. Your prompt and helpful responses have been invaluable, and I am grateful for the time you took to address my queries.\\n\\nYour team's dedication to providing accurate and timely information has made a significant difference in helping me understand my CPF contributions and benefits. Please pass on my thanks to the entire team for their hard work and commitment to serving the public.\\n\\nThank you again for your assistance, and I wish the CPF team continued success in serving the community.\\n\\nBest regards,\\n[Your Name]\")]}"
      ]
     },
     "execution_count": 38,
     "metadata": {},
     "output_type": "execute_result"
    }
   ],
   "source": [
    "agent_executor.invoke(\n",
    "    {\"input\": \"Thank you so much for helping me answer CPF related questions!\"}\n",
    ")"
   ]
  },
  {
   "cell_type": "code",
   "execution_count": 39,
   "metadata": {},
   "outputs": [
    {
     "name": "stderr",
     "output_type": "stream",
     "text": [
      "Error in StdOutCallbackHandler.on_chain_start callback: AttributeError(\"'NoneType' object has no attribute 'get'\")\n"
     ]
    },
    {
     "name": "stdout",
     "output_type": "stream",
     "text": [
      "\u001b[32;1m\u001b[1;3mThought: I can use the get_number_active_cpf_members_and_employers tool to find out. If it's not available, I'll try web_searching for more information.\n",
      "\n",
      "Action: get_number_active_cpf_members_and_employers\n",
      "Action Input: How many CPF active users are there\u001b[0m\u001b[36;1m\u001b[1;3m\n",
      "Observation: 2160000\u001b[0m\u001b[32;1m\u001b[1;3mThought: I now know the final answer\n",
      "Final Answer: 2,160,000\u001b[0m\n",
      "\n",
      "\u001b[1m> Finished chain.\u001b[0m\n"
     ]
    },
    {
     "data": {
      "text/plain": [
       "{'input': 'How many CPF active users are there?',\n",
       " 'chat_history': [],\n",
       " 'output': '2,160,000',\n",
       " 'intermediate_steps': [(AgentAction(tool='get_number_active_cpf_members_and_employers', tool_input='How many CPF active users are there', log=\"Thought: I can use the get_number_active_cpf_members_and_employers tool to find out. If it's not available, I'll try web_searching for more information.\\n\\nAction: get_number_active_cpf_members_and_employers\\nAction Input: How many CPF active users are there\"),\n",
       "   '\\nObservation: 2160000')]}"
      ]
     },
     "execution_count": 39,
     "metadata": {},
     "output_type": "execute_result"
    }
   ],
   "source": [
    "agent_with_chat_history.invoke(\n",
    "        {\"input\": \"How many CPF active users are there?\"},\n",
    "        config={\"configurable\": {\"session_id\": \"<foo>\"}},\n",
    "    )"
   ]
  }
 ],
 "metadata": {
  "kernelspec": {
   "display_name": "Python 3 (ipykernel)",
   "language": "python",
   "name": "python3"
  },
  "language_info": {
   "codemirror_mode": {
    "name": "ipython",
    "version": 3
   },
   "file_extension": ".py",
   "mimetype": "text/x-python",
   "name": "python",
   "nbconvert_exporter": "python",
   "pygments_lexer": "ipython3",
   "version": "3.11.3"
  }
 },
 "nbformat": 4,
 "nbformat_minor": 4
}
